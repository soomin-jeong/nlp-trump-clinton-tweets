{
 "cells": [
  {
   "cell_type": "markdown",
   "metadata": {},
   "source": [
    "## Setting the working directory"
   ]
  },
  {
   "cell_type": "code",
   "execution_count": 1,
   "metadata": {},
   "outputs": [],
   "source": [
    "setwd('/Users/JeongSooMin/Documents/workspace/nlp-trump-clinton-tweets')\n",
    "R_LIB_PATH = '/Users/JeongSooMin/anaconda3/envs/r_env/lib/R/library'"
   ]
  },
  {
   "cell_type": "code",
   "execution_count": 13,
   "metadata": {},
   "outputs": [],
   "source": [
    "library(wordcloud)\n",
    "library(ggplot2)\n",
    "library(RWeka)\n",
    "library(reshape2)"
   ]
  },
  {
   "cell_type": "code",
   "execution_count": 24,
   "metadata": {},
   "outputs": [
    {
     "ename": "ERROR",
     "evalue": "Error in library(tm): there is no package called ‘tm’\n",
     "output_type": "error",
     "traceback": [
      "Error in library(tm): there is no package called ‘tm’\nTraceback:\n",
      "1. library(tm)"
     ]
    }
   ],
   "source": [
    "library(tm)"
   ]
  },
  {
   "cell_type": "code",
   "execution_count": 20,
   "metadata": {},
   "outputs": [
    {
     "name": "stderr",
     "output_type": "stream",
     "text": [
      "Warning message:\n",
      "“unable to access index for repository https://CRAN.R-project.org/package=tm/src/contrib:\n",
      "  URL 'https://CRAN.R-project.org/package=tm/src/contrib/PACKAGES'를 열 수 없습니다”Warning message:\n",
      "“package ‘tm’ is not available (for R version 3.6.1)”"
     ]
    }
   ],
   "source": [
    "install.packages('tm', repo='https://CRAN.R-project.org/package=tm')"
   ]
  },
  {
   "cell_type": "code",
   "execution_count": 18,
   "metadata": {},
   "outputs": [
    {
     "ename": "ERROR",
     "evalue": "Error in library(\"tm\"): there is no package called ‘tm’\n",
     "output_type": "error",
     "traceback": [
      "Error in library(\"tm\"): there is no package called ‘tm’\nTraceback:\n",
      "1. library(\"tm\")"
     ]
    }
   ],
   "source": [
    "library('tm')"
   ]
  },
  {
   "cell_type": "code",
   "execution_count": 14,
   "metadata": {},
   "outputs": [
    {
     "ename": "ERROR",
     "evalue": "Error in DirSource(\"../Corpus/review_polarity/txt_sentoken/pos\", encoding = \"UTF-8\"): 함수 \"DirSource\"를 찾을 수 없습니다\n",
     "output_type": "error",
     "traceback": [
      "Error in DirSource(\"../Corpus/review_polarity/txt_sentoken/pos\", encoding = \"UTF-8\"): 함수 \"DirSource\"를 찾을 수 없습니다\nTraceback:\n"
     ]
    }
   ],
   "source": [
    "source.pos = DirSource(\"../Corpus/review_polarity/txt_sentoken/pos\", encoding = \"UTF-8\")\n",
    "corpus = Corpus(source.pos)"
   ]
  },
  {
   "cell_type": "code",
   "execution_count": null,
   "metadata": {},
   "outputs": [],
   "source": [
    "?DirSource"
   ]
  }
 ],
 "metadata": {
  "kernelspec": {
   "display_name": "R",
   "language": "R",
   "name": "ir"
  },
  "language_info": {
   "codemirror_mode": "r",
   "file_extension": ".r",
   "mimetype": "text/x-r-source",
   "name": "R",
   "pygments_lexer": "r",
   "version": "3.6.1"
  }
 },
 "nbformat": 4,
 "nbformat_minor": 4
}
